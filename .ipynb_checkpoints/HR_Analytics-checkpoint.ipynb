{
 "cells": [
  {
   "cell_type": "markdown",
   "id": "a236e864",
   "metadata": {},
   "source": [
    "# Modelling Staff Retention (HR Analytics)"
   ]
  },
  {
   "cell_type": "markdown",
   "id": "1093e904",
   "metadata": {},
   "source": [
    "### Introduction \n",
    "\n",
    "A dataset (downloaded from Kaggle) includes diferent metrics about employees of a company. The information also includes whether the employee is still employed with the company or has decided to leave the company. \n",
    "\n",
    "The aim of this acitivty is to\n",
    "\n",
    "**\"create a model to predict whether an employee will remain with the company or leave it, based on the collected metrics\"**"
   ]
  },
  {
   "cell_type": "code",
   "execution_count": 1,
   "id": "4b2cf768",
   "metadata": {},
   "outputs": [],
   "source": [
    "#importing necessary libraries\n",
    "\n",
    "import pandas as pd\n",
    "import numpy as np\n",
    "\n",
    "\n",
    "import seaborn as sns\n",
    "import matplotlib.pyplot as plt\n",
    "%matplotlib inline\n",
    "\n"
   ]
  },
  {
   "cell_type": "markdown",
   "id": "91609141",
   "metadata": {},
   "source": [
    "### Data Wrangling\n",
    "\n",
    "The *csv* file was downloaded from the Kaggle webiste (link given below);\n",
    "\n",
    "https://www.kaggle.com/giripujar/hr-analytics\n",
    "\n",
    "The csv file was saved on the local directory and the contents read into a DataFrame"
   ]
  },
  {
   "cell_type": "code",
   "execution_count": 2,
   "id": "3a0018a1",
   "metadata": {},
   "outputs": [],
   "source": [
    "#reading the data from the downloaded csv file\n",
    "\n",
    "df = pd.read_csv('HR_comma_sep.csv')"
   ]
  },
  {
   "cell_type": "code",
   "execution_count": 3,
   "id": "a028bbb1",
   "metadata": {},
   "outputs": [
    {
     "data": {
      "text/plain": [
       "(14999, 10)"
      ]
     },
     "execution_count": 3,
     "metadata": {},
     "output_type": "execute_result"
    }
   ],
   "source": [
    "df.shape"
   ]
  },
  {
   "cell_type": "code",
   "execution_count": 4,
   "id": "d0815d99",
   "metadata": {},
   "outputs": [
    {
     "data": {
      "text/html": [
       "<div>\n",
       "<style scoped>\n",
       "    .dataframe tbody tr th:only-of-type {\n",
       "        vertical-align: middle;\n",
       "    }\n",
       "\n",
       "    .dataframe tbody tr th {\n",
       "        vertical-align: top;\n",
       "    }\n",
       "\n",
       "    .dataframe thead th {\n",
       "        text-align: right;\n",
       "    }\n",
       "</style>\n",
       "<table border=\"1\" class=\"dataframe\">\n",
       "  <thead>\n",
       "    <tr style=\"text-align: right;\">\n",
       "      <th></th>\n",
       "      <th>satisfaction_level</th>\n",
       "      <th>last_evaluation</th>\n",
       "      <th>number_project</th>\n",
       "      <th>average_montly_hours</th>\n",
       "      <th>time_spend_company</th>\n",
       "      <th>Work_accident</th>\n",
       "      <th>left</th>\n",
       "      <th>promotion_last_5years</th>\n",
       "      <th>Department</th>\n",
       "      <th>salary</th>\n",
       "    </tr>\n",
       "  </thead>\n",
       "  <tbody>\n",
       "    <tr>\n",
       "      <th>0</th>\n",
       "      <td>0.38</td>\n",
       "      <td>0.53</td>\n",
       "      <td>2</td>\n",
       "      <td>157</td>\n",
       "      <td>3</td>\n",
       "      <td>0</td>\n",
       "      <td>1</td>\n",
       "      <td>0</td>\n",
       "      <td>sales</td>\n",
       "      <td>low</td>\n",
       "    </tr>\n",
       "    <tr>\n",
       "      <th>1</th>\n",
       "      <td>0.80</td>\n",
       "      <td>0.86</td>\n",
       "      <td>5</td>\n",
       "      <td>262</td>\n",
       "      <td>6</td>\n",
       "      <td>0</td>\n",
       "      <td>1</td>\n",
       "      <td>0</td>\n",
       "      <td>sales</td>\n",
       "      <td>medium</td>\n",
       "    </tr>\n",
       "    <tr>\n",
       "      <th>2</th>\n",
       "      <td>0.11</td>\n",
       "      <td>0.88</td>\n",
       "      <td>7</td>\n",
       "      <td>272</td>\n",
       "      <td>4</td>\n",
       "      <td>0</td>\n",
       "      <td>1</td>\n",
       "      <td>0</td>\n",
       "      <td>sales</td>\n",
       "      <td>medium</td>\n",
       "    </tr>\n",
       "    <tr>\n",
       "      <th>3</th>\n",
       "      <td>0.72</td>\n",
       "      <td>0.87</td>\n",
       "      <td>5</td>\n",
       "      <td>223</td>\n",
       "      <td>5</td>\n",
       "      <td>0</td>\n",
       "      <td>1</td>\n",
       "      <td>0</td>\n",
       "      <td>sales</td>\n",
       "      <td>low</td>\n",
       "    </tr>\n",
       "    <tr>\n",
       "      <th>4</th>\n",
       "      <td>0.37</td>\n",
       "      <td>0.52</td>\n",
       "      <td>2</td>\n",
       "      <td>159</td>\n",
       "      <td>3</td>\n",
       "      <td>0</td>\n",
       "      <td>1</td>\n",
       "      <td>0</td>\n",
       "      <td>sales</td>\n",
       "      <td>low</td>\n",
       "    </tr>\n",
       "  </tbody>\n",
       "</table>\n",
       "</div>"
      ],
      "text/plain": [
       "   satisfaction_level  last_evaluation  number_project  average_montly_hours  \\\n",
       "0                0.38             0.53               2                   157   \n",
       "1                0.80             0.86               5                   262   \n",
       "2                0.11             0.88               7                   272   \n",
       "3                0.72             0.87               5                   223   \n",
       "4                0.37             0.52               2                   159   \n",
       "\n",
       "   time_spend_company  Work_accident  left  promotion_last_5years Department  \\\n",
       "0                   3              0     1                      0      sales   \n",
       "1                   6              0     1                      0      sales   \n",
       "2                   4              0     1                      0      sales   \n",
       "3                   5              0     1                      0      sales   \n",
       "4                   3              0     1                      0      sales   \n",
       "\n",
       "   salary  \n",
       "0     low  \n",
       "1  medium  \n",
       "2  medium  \n",
       "3     low  \n",
       "4     low  "
      ]
     },
     "execution_count": 4,
     "metadata": {},
     "output_type": "execute_result"
    }
   ],
   "source": [
    "df.head()"
   ]
  },
  {
   "cell_type": "markdown",
   "id": "5ced36ce",
   "metadata": {},
   "source": [
    "The file has **10 variables** and **15k records**."
   ]
  },
  {
   "cell_type": "markdown",
   "id": "e42ce77e",
   "metadata": {},
   "source": [
    "**Note**: The data is clean, therefore the *Data Cleaning* step is not required"
   ]
  },
  {
   "cell_type": "markdown",
   "id": "59e6f09a",
   "metadata": {},
   "source": [
    "### Data Analysis"
   ]
  },
  {
   "cell_type": "markdown",
   "id": "331df2df",
   "metadata": {},
   "source": [
    "The ultimate aim of this exercise is to create a model to predict whether an employee is likely to stay with the company or leave it, based on the metrics available. \n",
    "\n",
    "We will start with some exploratory analysis to get a better understanding of the characteristics of employees who stay with the company as compared to those who choose to leave it."
   ]
  },
  {
   "cell_type": "code",
   "execution_count": 5,
   "id": "be0923f3",
   "metadata": {},
   "outputs": [
    {
     "data": {
      "text/plain": [
       "0    11428\n",
       "1     3571\n",
       "Name: left, dtype: int64"
      ]
     },
     "execution_count": 5,
     "metadata": {},
     "output_type": "execute_result"
    }
   ],
   "source": [
    "#counting the number of records for employees who have left the company\n",
    "\n",
    "df['left'].value_counts()"
   ]
  },
  {
   "cell_type": "code",
   "execution_count": 6,
   "id": "d1aa2640",
   "metadata": {},
   "outputs": [
    {
     "data": {
      "text/html": [
       "<div>\n",
       "<style scoped>\n",
       "    .dataframe tbody tr th:only-of-type {\n",
       "        vertical-align: middle;\n",
       "    }\n",
       "\n",
       "    .dataframe tbody tr th {\n",
       "        vertical-align: top;\n",
       "    }\n",
       "\n",
       "    .dataframe thead th {\n",
       "        text-align: right;\n",
       "    }\n",
       "</style>\n",
       "<table border=\"1\" class=\"dataframe\">\n",
       "  <thead>\n",
       "    <tr style=\"text-align: right;\">\n",
       "      <th></th>\n",
       "      <th>satisfaction_level</th>\n",
       "      <th>last_evaluation</th>\n",
       "      <th>number_project</th>\n",
       "      <th>average_montly_hours</th>\n",
       "      <th>time_spend_company</th>\n",
       "      <th>Work_accident</th>\n",
       "      <th>left</th>\n",
       "      <th>promotion_last_5years</th>\n",
       "    </tr>\n",
       "  </thead>\n",
       "  <tbody>\n",
       "    <tr>\n",
       "      <th>count</th>\n",
       "      <td>14999.000000</td>\n",
       "      <td>14999.000000</td>\n",
       "      <td>14999.000000</td>\n",
       "      <td>14999.000000</td>\n",
       "      <td>14999.000000</td>\n",
       "      <td>14999.000000</td>\n",
       "      <td>14999.000000</td>\n",
       "      <td>14999.000000</td>\n",
       "    </tr>\n",
       "    <tr>\n",
       "      <th>mean</th>\n",
       "      <td>0.612834</td>\n",
       "      <td>0.716102</td>\n",
       "      <td>3.803054</td>\n",
       "      <td>201.050337</td>\n",
       "      <td>3.498233</td>\n",
       "      <td>0.144610</td>\n",
       "      <td>0.238083</td>\n",
       "      <td>0.021268</td>\n",
       "    </tr>\n",
       "    <tr>\n",
       "      <th>std</th>\n",
       "      <td>0.248631</td>\n",
       "      <td>0.171169</td>\n",
       "      <td>1.232592</td>\n",
       "      <td>49.943099</td>\n",
       "      <td>1.460136</td>\n",
       "      <td>0.351719</td>\n",
       "      <td>0.425924</td>\n",
       "      <td>0.144281</td>\n",
       "    </tr>\n",
       "    <tr>\n",
       "      <th>min</th>\n",
       "      <td>0.090000</td>\n",
       "      <td>0.360000</td>\n",
       "      <td>2.000000</td>\n",
       "      <td>96.000000</td>\n",
       "      <td>2.000000</td>\n",
       "      <td>0.000000</td>\n",
       "      <td>0.000000</td>\n",
       "      <td>0.000000</td>\n",
       "    </tr>\n",
       "    <tr>\n",
       "      <th>25%</th>\n",
       "      <td>0.440000</td>\n",
       "      <td>0.560000</td>\n",
       "      <td>3.000000</td>\n",
       "      <td>156.000000</td>\n",
       "      <td>3.000000</td>\n",
       "      <td>0.000000</td>\n",
       "      <td>0.000000</td>\n",
       "      <td>0.000000</td>\n",
       "    </tr>\n",
       "    <tr>\n",
       "      <th>50%</th>\n",
       "      <td>0.640000</td>\n",
       "      <td>0.720000</td>\n",
       "      <td>4.000000</td>\n",
       "      <td>200.000000</td>\n",
       "      <td>3.000000</td>\n",
       "      <td>0.000000</td>\n",
       "      <td>0.000000</td>\n",
       "      <td>0.000000</td>\n",
       "    </tr>\n",
       "    <tr>\n",
       "      <th>75%</th>\n",
       "      <td>0.820000</td>\n",
       "      <td>0.870000</td>\n",
       "      <td>5.000000</td>\n",
       "      <td>245.000000</td>\n",
       "      <td>4.000000</td>\n",
       "      <td>0.000000</td>\n",
       "      <td>0.000000</td>\n",
       "      <td>0.000000</td>\n",
       "    </tr>\n",
       "    <tr>\n",
       "      <th>max</th>\n",
       "      <td>1.000000</td>\n",
       "      <td>1.000000</td>\n",
       "      <td>7.000000</td>\n",
       "      <td>310.000000</td>\n",
       "      <td>10.000000</td>\n",
       "      <td>1.000000</td>\n",
       "      <td>1.000000</td>\n",
       "      <td>1.000000</td>\n",
       "    </tr>\n",
       "  </tbody>\n",
       "</table>\n",
       "</div>"
      ],
      "text/plain": [
       "       satisfaction_level  last_evaluation  number_project  \\\n",
       "count        14999.000000     14999.000000    14999.000000   \n",
       "mean             0.612834         0.716102        3.803054   \n",
       "std              0.248631         0.171169        1.232592   \n",
       "min              0.090000         0.360000        2.000000   \n",
       "25%              0.440000         0.560000        3.000000   \n",
       "50%              0.640000         0.720000        4.000000   \n",
       "75%              0.820000         0.870000        5.000000   \n",
       "max              1.000000         1.000000        7.000000   \n",
       "\n",
       "       average_montly_hours  time_spend_company  Work_accident          left  \\\n",
       "count          14999.000000        14999.000000   14999.000000  14999.000000   \n",
       "mean             201.050337            3.498233       0.144610      0.238083   \n",
       "std               49.943099            1.460136       0.351719      0.425924   \n",
       "min               96.000000            2.000000       0.000000      0.000000   \n",
       "25%              156.000000            3.000000       0.000000      0.000000   \n",
       "50%              200.000000            3.000000       0.000000      0.000000   \n",
       "75%              245.000000            4.000000       0.000000      0.000000   \n",
       "max              310.000000           10.000000       1.000000      1.000000   \n",
       "\n",
       "       promotion_last_5years  \n",
       "count           14999.000000  \n",
       "mean                0.021268  \n",
       "std                 0.144281  \n",
       "min                 0.000000  \n",
       "25%                 0.000000  \n",
       "50%                 0.000000  \n",
       "75%                 0.000000  \n",
       "max                 1.000000  "
      ]
     },
     "execution_count": 6,
     "metadata": {},
     "output_type": "execute_result"
    }
   ],
   "source": [
    "#getting summary statistics of the numerical datafields\n",
    "\n",
    "df.describe()"
   ]
  },
  {
   "cell_type": "markdown",
   "id": "b5279cab",
   "metadata": {},
   "source": [
    "The around **23%** (3,571) of the records in the dataset belong to employees who have left the company."
   ]
  },
  {
   "cell_type": "code",
   "execution_count": 13,
   "id": "d8af66f6",
   "metadata": {},
   "outputs": [
    {
     "data": {
      "image/png": "[encoded data removed]",
      "text/plain": [
       "<Figure size 720x720 with 2 Axes>"
      ]
     },
     "metadata": {
      "needs_background": "light"
     },
     "output_type": "display_data"
    }
   ],
   "source": [
    "#plotting histogram of satisfaction levels and last evaluation scores of employees who have left the company vs those who havent \n",
    "\n",
    "plt.figure(figsize = [10,10])\n",
    "\n",
    "plt.subplot(2,1,1) #histogram of satisfaction levels\n",
    "\n",
    "bin_edges = np.arange(0, 1, 0.1)\n",
    "plt.hist(data = df[df['left'] == 1], x = 'satisfaction_level', bins = bin_edges, alpha = 0.5)\n",
    "\n",
    "plt.hist(data = df[df['left'] == 0], x = 'satisfaction_level', bins = bin_edges, alpha = 0.5)\n",
    "\n",
    "plt.title('Satisfaction Levels')\n",
    "plt.xlabel('satisfaction level score')\n",
    "plt.legend(['left the company', 'stayed with company']);\n",
    "\n",
    "\n",
    "plt.subplot(2,1,2) #histogram of last evaluation score\n",
    "\n",
    "bin_edges = np.arange(0, 1, 0.1)\n",
    "plt.hist(data = df[df['left'] == 1], x = 'last_evaluation', bins = bin_edges, alpha = 0.5)\n",
    "\n",
    "plt.hist(data = df[df['left'] == 0], x = 'last_evaluation', bins = bin_edges, alpha = 0.5)\n",
    "\n",
    "plt.title('Last Evaluation (score)')\n",
    "plt.xlabel('last evaluation score')\n",
    "plt.legend(['left the company', 'stayed with company']);\n"
   ]
  },
  {
   "cell_type": "markdown",
   "id": "02e0f6aa",
   "metadata": {},
   "source": [
    "It is evident that people whe chose to **leave** the company had *different/lower satisfaction levels* than employees who are still employed with the company.\n",
    "\n",
    "However, there wasn't much *noticeable difference* between the last evaluation scores of employees who **left** the company compared to those who didnt.\n",
    "\n",
    "This raises the question, what other factors are different between individuals who have left the company compared to individuals who are still with the company.\n",
    "\n",
    "To investigate this, we will calculate the *difference in means* of the numeric variables to identify the difference in metrics between employees who left vs employees who did not"
   ]
  },
  {
   "cell_type": "code",
   "execution_count": 14,
   "id": "a39bfefe",
   "metadata": {},
   "outputs": [
    {
     "data": {
      "text/html": [
       "<div>\n",
       "<style scoped>\n",
       "    .dataframe tbody tr th:only-of-type {\n",
       "        vertical-align: middle;\n",
       "    }\n",
       "\n",
       "    .dataframe tbody tr th {\n",
       "        vertical-align: top;\n",
       "    }\n",
       "\n",
       "    .dataframe thead th {\n",
       "        text-align: right;\n",
       "    }\n",
       "</style>\n",
       "<table border=\"1\" class=\"dataframe\">\n",
       "  <thead>\n",
       "    <tr style=\"text-align: right;\">\n",
       "      <th></th>\n",
       "      <th>satisfaction_level</th>\n",
       "      <th>last_evaluation</th>\n",
       "      <th>number_project</th>\n",
       "      <th>average_montly_hours</th>\n",
       "      <th>time_spend_company</th>\n",
       "      <th>Work_accident</th>\n",
       "      <th>promotion_last_5years</th>\n",
       "    </tr>\n",
       "    <tr>\n",
       "      <th>left</th>\n",
       "      <th></th>\n",
       "      <th></th>\n",
       "      <th></th>\n",
       "      <th></th>\n",
       "      <th></th>\n",
       "      <th></th>\n",
       "      <th></th>\n",
       "    </tr>\n",
       "  </thead>\n",
       "  <tbody>\n",
       "    <tr>\n",
       "      <th>0</th>\n",
       "      <td>0.666810</td>\n",
       "      <td>0.715473</td>\n",
       "      <td>3.786664</td>\n",
       "      <td>199.060203</td>\n",
       "      <td>3.380032</td>\n",
       "      <td>0.175009</td>\n",
       "      <td>0.026251</td>\n",
       "    </tr>\n",
       "    <tr>\n",
       "      <th>1</th>\n",
       "      <td>0.440098</td>\n",
       "      <td>0.718113</td>\n",
       "      <td>3.855503</td>\n",
       "      <td>207.419210</td>\n",
       "      <td>3.876505</td>\n",
       "      <td>0.047326</td>\n",
       "      <td>0.005321</td>\n",
       "    </tr>\n",
       "  </tbody>\n",
       "</table>\n",
       "</div>"
      ],
      "text/plain": [
       "      satisfaction_level  last_evaluation  number_project  \\\n",
       "left                                                        \n",
       "0               0.666810         0.715473        3.786664   \n",
       "1               0.440098         0.718113        3.855503   \n",
       "\n",
       "      average_montly_hours  time_spend_company  Work_accident  \\\n",
       "left                                                            \n",
       "0               199.060203            3.380032       0.175009   \n",
       "1               207.419210            3.876505       0.047326   \n",
       "\n",
       "      promotion_last_5years  \n",
       "left                         \n",
       "0                  0.026251  \n",
       "1                  0.005321  "
      ]
     },
     "execution_count": 14,
     "metadata": {},
     "output_type": "execute_result"
    }
   ],
   "source": [
    "#comparison of mean values of variables between employees who left vs employees who stayed\n",
    "\n",
    "df.groupby('left').mean()"
   ]
  },
  {
   "cell_type": "markdown",
   "id": "60b58afa",
   "metadata": {},
   "source": [
    "We will use *bootstrapping* to run **difference in means confidence interval test** for the following variables to see if there is a significant difference between *mean* values for individuals who left the company and individuals who did not\n",
    "\n",
    "1. satisfaction_level (score)\n",
    "2. last_evaluation (score)\n",
    "3. number_projects\n",
    "4. average_montly_hours\n",
    "5. time_spend_company\n",
    "6. Work_accident\n",
    "7. promotion_last_5years"
   ]
  },
  {
   "cell_type": "code",
   "execution_count": 15,
   "id": "b71d669a",
   "metadata": {},
   "outputs": [],
   "source": [
    "#defining the function to return a 99% confidence interval value range\n",
    "\n",
    "def confidence_interval(var):\n",
    "    boot_means = [] #mean of employees who left - mean of employees who remain\n",
    "\n",
    "    for _ in range(10000):\n",
    "        boot_sample = df.sample(int(df.shape[0]/2), replace = True)\n",
    "        mean_left = boot_sample[boot_sample['left'] == 1][var].mean()\n",
    "        mean_remain = boot_sample[boot_sample['left'] == 0][var].mean()\n",
    "        diff_mean = mean_left - mean_remain\n",
    "        boot_means.append(diff_mean)\n",
    "    \n",
    "    conf_interval = np.percentile(boot_means, 0.5), np.percentile(boot_means, 99.5)\n",
    "    \n",
    "    return(conf_interval)"
   ]
  },
  {
   "cell_type": "code",
   "execution_count": 16,
   "id": "7cdda252",
   "metadata": {},
   "outputs": [
    {
     "data": {
      "text/html": [
       "<div>\n",
       "<style scoped>\n",
       "    .dataframe tbody tr th:only-of-type {\n",
       "        vertical-align: middle;\n",
       "    }\n",
       "\n",
       "    .dataframe tbody tr th {\n",
       "        vertical-align: top;\n",
       "    }\n",
       "\n",
       "    .dataframe thead th {\n",
       "        text-align: right;\n",
       "    }\n",
       "</style>\n",
       "<table border=\"1\" class=\"dataframe\">\n",
       "  <thead>\n",
       "    <tr style=\"text-align: right;\">\n",
       "      <th></th>\n",
       "      <th>metric</th>\n",
       "      <th>99%_conf_interval_range</th>\n",
       "    </tr>\n",
       "  </thead>\n",
       "  <tbody>\n",
       "    <tr>\n",
       "      <th>0</th>\n",
       "      <td>satisfaction_level</td>\n",
       "      <td>(-0.24443316258347803, -0.20923471458671283)</td>\n",
       "    </tr>\n",
       "    <tr>\n",
       "      <th>1</th>\n",
       "      <td>last_evaluation</td>\n",
       "      <td>(-0.01092947016775499, 0.015780989601762094)</td>\n",
       "    </tr>\n",
       "    <tr>\n",
       "      <th>2</th>\n",
       "      <td>number_project</td>\n",
       "      <td>(-0.04618503012333258, 0.18262596007003376)</td>\n",
       "    </tr>\n",
       "    <tr>\n",
       "      <th>3</th>\n",
       "      <td>average_montly_hours</td>\n",
       "      <td>(4.3077556959434995, 12.3431401375785)</td>\n",
       "    </tr>\n",
       "    <tr>\n",
       "      <th>4</th>\n",
       "      <td>time_spend_company</td>\n",
       "      <td>(0.4176789824766009, 0.5768380927293937)</td>\n",
       "    </tr>\n",
       "    <tr>\n",
       "      <th>5</th>\n",
       "      <td>Work_accident</td>\n",
       "      <td>(-0.14560296211551313, -0.10875754535942234)</td>\n",
       "    </tr>\n",
       "    <tr>\n",
       "      <th>6</th>\n",
       "      <td>promotion_last_5years</td>\n",
       "      <td>(-0.02774621400255969, -0.013887466328213896)</td>\n",
       "    </tr>\n",
       "  </tbody>\n",
       "</table>\n",
       "</div>"
      ],
      "text/plain": [
       "                  metric                        99%_conf_interval_range\n",
       "0     satisfaction_level   (-0.24443316258347803, -0.20923471458671283)\n",
       "1        last_evaluation   (-0.01092947016775499, 0.015780989601762094)\n",
       "2         number_project    (-0.04618503012333258, 0.18262596007003376)\n",
       "3   average_montly_hours         (4.3077556959434995, 12.3431401375785)\n",
       "4     time_spend_company       (0.4176789824766009, 0.5768380927293937)\n",
       "5          Work_accident   (-0.14560296211551313, -0.10875754535942234)\n",
       "6  promotion_last_5years  (-0.02774621400255969, -0.013887466328213896)"
      ]
     },
     "execution_count": 16,
     "metadata": {},
     "output_type": "execute_result"
    }
   ],
   "source": [
    "#creating a list of dictionaries with the variable name as the key and the confidence interval (99%) range as the values\n",
    "\n",
    "confidence_intervals = []\n",
    "\n",
    "var_names = ['satisfaction_level', 'last_evaluation', 'number_project', 'average_montly_hours', 'time_spend_company', \n",
    "            'Work_accident', 'promotion_last_5years']\n",
    "\n",
    "for var in var_names:\n",
    "    confidence_intervals.append({'metric': var,\n",
    "                                 '99%_conf_interval_range' : confidence_interval(var)})\n",
    "    \n",
    "#convert list of dict to pd.df\n",
    "\n",
    "df_conf_interval = pd.DataFrame(confidence_intervals, columns = ['metric', '99%_conf_interval_range'])\n",
    "\n",
    "df_conf_interval"
   ]
  },
  {
   "cell_type": "markdown",
   "id": "46422361",
   "metadata": {},
   "source": [
    "From the results of the confidence interval (99%) test, we can ascertain that there are *no difference in the mean values of last_evaluation score and the number of projects undertaken* between employees who left the company and employees who did not.\n",
    "\n",
    "Employees who left the company had consistently low satisfaction levels i.e. between 0.208 and 0.244 points lower satisfaction level on average than employees who stayed with the company\n",
    "\n",
    "Employees who left the company also worked between 4.30 and 12.37 hours on average more than the employees who stayed with the company. These employees had also been with the company for a longer time i.e. between 0.418 and 0.576 years more on avg. \n",
    "\n",
    "Most importantly, employees who chose to leave the company were promoted less often than those who chose to stay with the company.\n",
    "\n",
    "\n",
    "It was important to know the individual impact of these variables. It helps us choose which variables to include in the regression model."
   ]
  },
  {
   "cell_type": "markdown",
   "id": "65cc146a",
   "metadata": {},
   "source": [
    "Before make a logistical Regression Model, we will visualize how the trend for leaving or staying with the company compare among the different **departments** and **salary levels**"
   ]
  },
  {
   "cell_type": "code",
   "execution_count": 18,
   "id": "224511d9",
   "metadata": {},
   "outputs": [
    {
     "data": {
      "image/png": "[encoded data removed]",
      "text/plain": [
       "<Figure size 432x288 with 1 Axes>"
      ]
     },
     "metadata": {
      "needs_background": "light"
     },
     "output_type": "display_data"
    }
   ],
   "source": [
    "#barchart for employee retention w.r.t Department\n",
    "\n",
    "base_color = sns.color_palette()[0]\n",
    "\n",
    "sns.countplot(data = df, x = 'Department', color = base_color, hue = 'left')\n",
    "\n",
    "plt.title('Employee Retention per Department')\n",
    "plt.xticks(rotation = 90);"
   ]
  },
  {
   "cell_type": "markdown",
   "id": "c8b3f1c1",
   "metadata": {},
   "source": [
    "We can see that the majority of the turnover (in terms of number of employees) is in the *sales, technical, and support* departments. \n",
    "\n",
    "*Management and RandD* departments have the least number of employees leaving the company"
   ]
  },
  {
   "cell_type": "code",
   "execution_count": 24,
   "id": "321289b5",
   "metadata": {},
   "outputs": [
    {
     "data": {
      "text/plain": [
       "Department\n",
       "hr             0.290934\n",
       "accounting     0.265971\n",
       "technical      0.256250\n",
       "support        0.248991\n",
       "sales          0.244928\n",
       "marketing      0.236597\n",
       "IT             0.222494\n",
       "product_mng    0.219512\n",
       "RandD          0.153748\n",
       "management     0.144444\n",
       "Name: left, dtype: float64"
      ]
     },
     "execution_count": 24,
     "metadata": {},
     "output_type": "execute_result"
    }
   ],
   "source": [
    "#Calculating proportion of employees who left per department\n",
    "\n",
    "dept_avg = (df.groupby('Department').sum()['left']/df.groupby('Department').count()['left']).sort_values(ascending = False)\n",
    "dept_avg"
   ]
  },
  {
   "cell_type": "code",
   "execution_count": 31,
   "id": "a05e4efd",
   "metadata": {},
   "outputs": [
    {
     "data": {
      "image/png": "[encoded data removed]",
      "text/plain": [
       "<Figure size 432x288 with 1 Axes>"
      ]
     },
     "metadata": {
      "needs_background": "light"
     },
     "output_type": "display_data"
    }
   ],
   "source": [
    "#plotting bar chart for proportions of employees who have left per department\n",
    "\n",
    "sns.barplot(x = dept_avg.index.values, y = dept_avg, color = base_color)\n",
    "plt.title('Proportion of Employees Leaving per Department')\n",
    "plt.xticks(rotation = 90)\n",
    "plt.xlabel('Department')\n",
    "plt.ylabel('% of employees');"
   ]
  },
  {
   "cell_type": "markdown",
   "id": "d8642abb",
   "metadata": {},
   "source": [
    "However, when we look at the *proportion* of employees who are leaving the company, **HR** has the highest proportion, followed by **accounting**.\n",
    "\n",
    "**Management** has the lowest *proportion* of employees leaving the company"
   ]
  },
  {
   "cell_type": "code",
   "execution_count": 28,
   "id": "f4667eb8",
   "metadata": {},
   "outputs": [
    {
     "data": {
      "image/png": "[encoded data removed]",
      "text/plain": [
       "<Figure size 432x288 with 1 Axes>"
      ]
     },
     "metadata": {
      "needs_background": "light"
     },
     "output_type": "display_data"
    }
   ],
   "source": [
    "#plotting bar chart for salary levels\n",
    "\n",
    "base_color = sns.color_palette()[0]\n",
    "\n",
    "sns.countplot(data = df, x = 'salary', color = base_color, hue = 'left')\n",
    "plt.title('Employee retention per Salary Level')\n",
    "plt.xlabel('Salary Level')\n",
    "plt.ylabel('number of employees');"
   ]
  },
  {
   "cell_type": "code",
   "execution_count": 29,
   "id": "f86ebc37",
   "metadata": {},
   "outputs": [
    {
     "data": {
      "text/plain": [
       "salary\n",
       "low       0.296884\n",
       "medium    0.204313\n",
       "high      0.066289\n",
       "Name: left, dtype: float64"
      ]
     },
     "execution_count": 29,
     "metadata": {},
     "output_type": "execute_result"
    }
   ],
   "source": [
    "#calculating the proportion of employees leaving the company per salary level\n",
    "\n",
    "salary_avg = (df.groupby('salary').sum()['left']/df.groupby('salary').count()['left']).sort_values(ascending = False)\n",
    "salary_avg"
   ]
  },
  {
   "cell_type": "code",
   "execution_count": 30,
   "id": "fb79ca68",
   "metadata": {},
   "outputs": [
    {
     "data": {
      "image/png": "[encoded data removed]",
      "text/plain": [
       "<Figure size 432x288 with 1 Axes>"
      ]
     },
     "metadata": {
      "needs_background": "light"
     },
     "output_type": "display_data"
    }
   ],
   "source": [
    "#plotting bar chart for the proportion of employees leaving per salary level\n",
    "\n",
    "sns.barplot(x = salary_avg.index.values, y = salary_avg, color = base_color)\n",
    "plt.title('Proportion of Employees Leaving the Company per Salary Level')\n",
    "plt.xlabel('Salary Level')\n",
    "plt.ylabel('% of employees');"
   ]
  },
  {
   "cell_type": "markdown",
   "id": "f115cdbf",
   "metadata": {},
   "source": [
    "We see the natural trend that the majority of employees leaving the company were getting a *lower* salary"
   ]
  },
  {
   "cell_type": "markdown",
   "id": "fe0faa18",
   "metadata": {},
   "source": [
    "### Creating a Logistic Regression Model"
   ]
  },
  {
   "cell_type": "code",
   "execution_count": 33,
   "id": "a7910fad",
   "metadata": {},
   "outputs": [],
   "source": [
    "#importing required libraries for regression modelling\n",
    "\n",
    "from sklearn.model_selection import train_test_split\n",
    "from sklearn.linear_model import LogisticRegression\n",
    "from sklearn.metrics import precision_score, recall_score, accuracy_score, confusion_matrix\n"
   ]
  },
  {
   "cell_type": "code",
   "execution_count": 38,
   "id": "44edbe4f",
   "metadata": {},
   "outputs": [],
   "source": [
    "#creating a copy of the df for modelling\n",
    "\n",
    "df_mod = df.copy()"
   ]
  },
  {
   "cell_type": "code",
   "execution_count": 39,
   "id": "601a29f0",
   "metadata": {},
   "outputs": [
    {
     "data": {
      "text/html": [
       "<div>\n",
       "<style scoped>\n",
       "    .dataframe tbody tr th:only-of-type {\n",
       "        vertical-align: middle;\n",
       "    }\n",
       "\n",
       "    .dataframe tbody tr th {\n",
       "        vertical-align: top;\n",
       "    }\n",
       "\n",
       "    .dataframe thead th {\n",
       "        text-align: right;\n",
       "    }\n",
       "</style>\n",
       "<table border=\"1\" class=\"dataframe\">\n",
       "  <thead>\n",
       "    <tr style=\"text-align: right;\">\n",
       "      <th></th>\n",
       "      <th>satisfaction_level</th>\n",
       "      <th>last_evaluation</th>\n",
       "      <th>number_project</th>\n",
       "      <th>average_montly_hours</th>\n",
       "      <th>time_spend_company</th>\n",
       "      <th>Work_accident</th>\n",
       "      <th>left</th>\n",
       "      <th>promotion_last_5years</th>\n",
       "      <th>Department</th>\n",
       "      <th>salary</th>\n",
       "    </tr>\n",
       "  </thead>\n",
       "  <tbody>\n",
       "    <tr>\n",
       "      <th>0</th>\n",
       "      <td>0.38</td>\n",
       "      <td>0.53</td>\n",
       "      <td>2</td>\n",
       "      <td>157</td>\n",
       "      <td>3</td>\n",
       "      <td>0</td>\n",
       "      <td>1</td>\n",
       "      <td>0</td>\n",
       "      <td>sales</td>\n",
       "      <td>low</td>\n",
       "    </tr>\n",
       "    <tr>\n",
       "      <th>1</th>\n",
       "      <td>0.80</td>\n",
       "      <td>0.86</td>\n",
       "      <td>5</td>\n",
       "      <td>262</td>\n",
       "      <td>6</td>\n",
       "      <td>0</td>\n",
       "      <td>1</td>\n",
       "      <td>0</td>\n",
       "      <td>sales</td>\n",
       "      <td>medium</td>\n",
       "    </tr>\n",
       "    <tr>\n",
       "      <th>2</th>\n",
       "      <td>0.11</td>\n",
       "      <td>0.88</td>\n",
       "      <td>7</td>\n",
       "      <td>272</td>\n",
       "      <td>4</td>\n",
       "      <td>0</td>\n",
       "      <td>1</td>\n",
       "      <td>0</td>\n",
       "      <td>sales</td>\n",
       "      <td>medium</td>\n",
       "    </tr>\n",
       "    <tr>\n",
       "      <th>3</th>\n",
       "      <td>0.72</td>\n",
       "      <td>0.87</td>\n",
       "      <td>5</td>\n",
       "      <td>223</td>\n",
       "      <td>5</td>\n",
       "      <td>0</td>\n",
       "      <td>1</td>\n",
       "      <td>0</td>\n",
       "      <td>sales</td>\n",
       "      <td>low</td>\n",
       "    </tr>\n",
       "    <tr>\n",
       "      <th>4</th>\n",
       "      <td>0.37</td>\n",
       "      <td>0.52</td>\n",
       "      <td>2</td>\n",
       "      <td>159</td>\n",
       "      <td>3</td>\n",
       "      <td>0</td>\n",
       "      <td>1</td>\n",
       "      <td>0</td>\n",
       "      <td>sales</td>\n",
       "      <td>low</td>\n",
       "    </tr>\n",
       "  </tbody>\n",
       "</table>\n",
       "</div>"
      ],
      "text/plain": [
       "   satisfaction_level  last_evaluation  number_project  average_montly_hours  \\\n",
       "0                0.38             0.53               2                   157   \n",
       "1                0.80             0.86               5                   262   \n",
       "2                0.11             0.88               7                   272   \n",
       "3                0.72             0.87               5                   223   \n",
       "4                0.37             0.52               2                   159   \n",
       "\n",
       "   time_spend_company  Work_accident  left  promotion_last_5years Department  \\\n",
       "0                   3              0     1                      0      sales   \n",
       "1                   6              0     1                      0      sales   \n",
       "2                   4              0     1                      0      sales   \n",
       "3                   5              0     1                      0      sales   \n",
       "4                   3              0     1                      0      sales   \n",
       "\n",
       "   salary  \n",
       "0     low  \n",
       "1  medium  \n",
       "2  medium  \n",
       "3     low  \n",
       "4     low  "
      ]
     },
     "execution_count": 39,
     "metadata": {},
     "output_type": "execute_result"
    }
   ],
   "source": [
    "df_mod.head()"
   ]
  },
  {
   "cell_type": "code",
   "execution_count": 40,
   "id": "ea1b3949",
   "metadata": {},
   "outputs": [],
   "source": [
    "#making dummy variables for the categorical variables\n",
    "\n",
    "#starting with Department\n",
    "\n",
    "df_mod = df_mod.join(pd.get_dummies(df_mod['Department']))"
   ]
  },
  {
   "cell_type": "code",
   "execution_count": 41,
   "id": "bf48bdd3",
   "metadata": {},
   "outputs": [],
   "source": [
    "#dropping 'Department' and 'IT' from the dataframe\n",
    "\n",
    "df_mod.drop(['Department', 'IT'], axis = 1, inplace = True)"
   ]
  },
  {
   "cell_type": "code",
   "execution_count": 42,
   "id": "9f1428da",
   "metadata": {},
   "outputs": [],
   "source": [
    "#dummy variables for 'salary'\n",
    "\n",
    "df_mod = df_mod.join(pd.get_dummies(df_mod['salary']))"
   ]
  },
  {
   "cell_type": "code",
   "execution_count": 49,
   "id": "3883b64e",
   "metadata": {},
   "outputs": [],
   "source": [
    "#dropping 'salary' and 'high' from the dataframe\n",
    "\n",
    "df_mod.drop(['salary', 'high'], axis = 1, inplace = True)"
   ]
  },
  {
   "cell_type": "markdown",
   "id": "df872f99",
   "metadata": {},
   "source": [
    "**Modelling Pt.1: Fitting a Logistic Regression Line on the data**"
   ]
  },
  {
   "cell_type": "code",
   "execution_count": 50,
   "id": "3e2ac7de",
   "metadata": {},
   "outputs": [],
   "source": [
    "#first we will create of copy of the modelling dataframe\n",
    "\n",
    "df_rm = df_mod.copy()"
   ]
  },
  {
   "cell_type": "code",
   "execution_count": 51,
   "id": "250d7392",
   "metadata": {},
   "outputs": [
    {
     "data": {
      "text/html": [
       "<div>\n",
       "<style scoped>\n",
       "    .dataframe tbody tr th:only-of-type {\n",
       "        vertical-align: middle;\n",
       "    }\n",
       "\n",
       "    .dataframe tbody tr th {\n",
       "        vertical-align: top;\n",
       "    }\n",
       "\n",
       "    .dataframe thead th {\n",
       "        text-align: right;\n",
       "    }\n",
       "</style>\n",
       "<table border=\"1\" class=\"dataframe\">\n",
       "  <thead>\n",
       "    <tr style=\"text-align: right;\">\n",
       "      <th></th>\n",
       "      <th>satisfaction_level</th>\n",
       "      <th>last_evaluation</th>\n",
       "      <th>number_project</th>\n",
       "      <th>average_montly_hours</th>\n",
       "      <th>time_spend_company</th>\n",
       "      <th>Work_accident</th>\n",
       "      <th>left</th>\n",
       "      <th>promotion_last_5years</th>\n",
       "      <th>RandD</th>\n",
       "      <th>accounting</th>\n",
       "      <th>hr</th>\n",
       "      <th>management</th>\n",
       "      <th>marketing</th>\n",
       "      <th>product_mng</th>\n",
       "      <th>sales</th>\n",
       "      <th>support</th>\n",
       "      <th>technical</th>\n",
       "      <th>low</th>\n",
       "      <th>medium</th>\n",
       "    </tr>\n",
       "  </thead>\n",
       "  <tbody>\n",
       "    <tr>\n",
       "      <th>0</th>\n",
       "      <td>0.38</td>\n",
       "      <td>0.53</td>\n",
       "      <td>2</td>\n",
       "      <td>157</td>\n",
       "      <td>3</td>\n",
       "      <td>0</td>\n",
       "      <td>1</td>\n",
       "      <td>0</td>\n",
       "      <td>0</td>\n",
       "      <td>0</td>\n",
       "      <td>0</td>\n",
       "      <td>0</td>\n",
       "      <td>0</td>\n",
       "      <td>0</td>\n",
       "      <td>1</td>\n",
       "      <td>0</td>\n",
       "      <td>0</td>\n",
       "      <td>1</td>\n",
       "      <td>0</td>\n",
       "    </tr>\n",
       "    <tr>\n",
       "      <th>1</th>\n",
       "      <td>0.80</td>\n",
       "      <td>0.86</td>\n",
       "      <td>5</td>\n",
       "      <td>262</td>\n",
       "      <td>6</td>\n",
       "      <td>0</td>\n",
       "      <td>1</td>\n",
       "      <td>0</td>\n",
       "      <td>0</td>\n",
       "      <td>0</td>\n",
       "      <td>0</td>\n",
       "      <td>0</td>\n",
       "      <td>0</td>\n",
       "      <td>0</td>\n",
       "      <td>1</td>\n",
       "      <td>0</td>\n",
       "      <td>0</td>\n",
       "      <td>0</td>\n",
       "      <td>1</td>\n",
       "    </tr>\n",
       "    <tr>\n",
       "      <th>2</th>\n",
       "      <td>0.11</td>\n",
       "      <td>0.88</td>\n",
       "      <td>7</td>\n",
       "      <td>272</td>\n",
       "      <td>4</td>\n",
       "      <td>0</td>\n",
       "      <td>1</td>\n",
       "      <td>0</td>\n",
       "      <td>0</td>\n",
       "      <td>0</td>\n",
       "      <td>0</td>\n",
       "      <td>0</td>\n",
       "      <td>0</td>\n",
       "      <td>0</td>\n",
       "      <td>1</td>\n",
       "      <td>0</td>\n",
       "      <td>0</td>\n",
       "      <td>0</td>\n",
       "      <td>1</td>\n",
       "    </tr>\n",
       "    <tr>\n",
       "      <th>3</th>\n",
       "      <td>0.72</td>\n",
       "      <td>0.87</td>\n",
       "      <td>5</td>\n",
       "      <td>223</td>\n",
       "      <td>5</td>\n",
       "      <td>0</td>\n",
       "      <td>1</td>\n",
       "      <td>0</td>\n",
       "      <td>0</td>\n",
       "      <td>0</td>\n",
       "      <td>0</td>\n",
       "      <td>0</td>\n",
       "      <td>0</td>\n",
       "      <td>0</td>\n",
       "      <td>1</td>\n",
       "      <td>0</td>\n",
       "      <td>0</td>\n",
       "      <td>1</td>\n",
       "      <td>0</td>\n",
       "    </tr>\n",
       "    <tr>\n",
       "      <th>4</th>\n",
       "      <td>0.37</td>\n",
       "      <td>0.52</td>\n",
       "      <td>2</td>\n",
       "      <td>159</td>\n",
       "      <td>3</td>\n",
       "      <td>0</td>\n",
       "      <td>1</td>\n",
       "      <td>0</td>\n",
       "      <td>0</td>\n",
       "      <td>0</td>\n",
       "      <td>0</td>\n",
       "      <td>0</td>\n",
       "      <td>0</td>\n",
       "      <td>0</td>\n",
       "      <td>1</td>\n",
       "      <td>0</td>\n",
       "      <td>0</td>\n",
       "      <td>1</td>\n",
       "      <td>0</td>\n",
       "    </tr>\n",
       "  </tbody>\n",
       "</table>\n",
       "</div>"
      ],
      "text/plain": [
       "   satisfaction_level  last_evaluation  number_project  average_montly_hours  \\\n",
       "0                0.38             0.53               2                   157   \n",
       "1                0.80             0.86               5                   262   \n",
       "2                0.11             0.88               7                   272   \n",
       "3                0.72             0.87               5                   223   \n",
       "4                0.37             0.52               2                   159   \n",
       "\n",
       "   time_spend_company  Work_accident  left  promotion_last_5years  RandD  \\\n",
       "0                   3              0     1                      0      0   \n",
       "1                   6              0     1                      0      0   \n",
       "2                   4              0     1                      0      0   \n",
       "3                   5              0     1                      0      0   \n",
       "4                   3              0     1                      0      0   \n",
       "\n",
       "   accounting  hr  management  marketing  product_mng  sales  support  \\\n",
       "0           0   0           0          0            0      1        0   \n",
       "1           0   0           0          0            0      1        0   \n",
       "2           0   0           0          0            0      1        0   \n",
       "3           0   0           0          0            0      1        0   \n",
       "4           0   0           0          0            0      1        0   \n",
       "\n",
       "   technical  low  medium  \n",
       "0          0    1       0  \n",
       "1          0    0       1  \n",
       "2          0    0       1  \n",
       "3          0    1       0  \n",
       "4          0    1       0  "
      ]
     },
     "execution_count": 51,
     "metadata": {},
     "output_type": "execute_result"
    }
   ],
   "source": [
    "df_rm.head()"
   ]
  },
  {
   "cell_type": "code",
   "execution_count": 44,
   "id": "51a4fd0b",
   "metadata": {},
   "outputs": [],
   "source": [
    "#importing the library or ligistic regression modelling\n",
    "\n",
    "import statsmodels.api as sm"
   ]
  },
  {
   "cell_type": "code",
   "execution_count": 52,
   "id": "288c7356",
   "metadata": {},
   "outputs": [],
   "source": [
    "#adding the intercept\n",
    "\n",
    "df_rm['intercept'] = 1"
   ]
  },
  {
   "cell_type": "code",
   "execution_count": 53,
   "id": "9f2edbcf",
   "metadata": {},
   "outputs": [],
   "source": [
    "#defining the y (dependent var) and X (independent var)\n",
    "\n",
    "y = df_rm['left']\n",
    "X = df_rm.drop(['left'], axis = 1)"
   ]
  },
  {
   "cell_type": "code",
   "execution_count": 55,
   "id": "be82e4e1",
   "metadata": {},
   "outputs": [
    {
     "name": "stdout",
     "output_type": "stream",
     "text": [
      "Optimization terminated successfully.\n",
      "         Current function value: 0.428358\n",
      "         Iterations 7\n"
     ]
    }
   ],
   "source": [
    "#fitting the line on the data\n",
    "\n",
    "logit_mod = sm.Logit(y, X)\n",
    "\n",
    "results = logit_mod.fit()"
   ]
  },
  {
   "cell_type": "code",
   "execution_count": 56,
   "id": "63584f7d",
   "metadata": {},
   "outputs": [
    {
     "data": {
      "text/html": [
       "<table class=\"simpletable\">\n",
       "<tr>\n",
       "        <td>Model:</td>              <td>Logit</td>      <td>Pseudo R-squared:</td>    <td>0.220</td>  \n",
       "</tr>\n",
       "<tr>\n",
       "  <td>Dependent Variable:</td>       <td>left</td>             <td>AIC:</td>        <td>12887.8960</td>\n",
       "</tr>\n",
       "<tr>\n",
       "         <td>Date:</td>        <td>2021-08-15 23:04</td>       <td>BIC:</td>        <td>13032.5950</td>\n",
       "</tr>\n",
       "<tr>\n",
       "   <td>No. Observations:</td>        <td>14999</td>       <td>Log-Likelihood:</td>    <td>-6424.9</td> \n",
       "</tr>\n",
       "<tr>\n",
       "       <td>Df Model:</td>             <td>18</td>            <td>LL-Null:</td>        <td>-8232.3</td> \n",
       "</tr>\n",
       "<tr>\n",
       "     <td>Df Residuals:</td>          <td>14980</td>        <td>LLR p-value:</td>      <td>0.0000</td>  \n",
       "</tr>\n",
       "<tr>\n",
       "      <td>Converged:</td>           <td>1.0000</td>           <td>Scale:</td>         <td>1.0000</td>  \n",
       "</tr>\n",
       "<tr>\n",
       "    <td>No. Iterations:</td>        <td>7.0000</td>              <td></td>               <td></td>     \n",
       "</tr>\n",
       "</table>\n",
       "<table class=\"simpletable\">\n",
       "<tr>\n",
       "            <td></td>             <th>Coef.</th>  <th>Std.Err.</th>     <th>z</th>     <th>P>|z|</th> <th>[0.025</th>  <th>0.975]</th> \n",
       "</tr>\n",
       "<tr>\n",
       "  <th>satisfaction_level</th>    <td>-4.1357</td>  <td>0.0981</td>  <td>-42.1769</td> <td>0.0000</td> <td>-4.3279</td> <td>-3.9435</td>\n",
       "</tr>\n",
       "<tr>\n",
       "  <th>last_evaluation</th>       <td>0.7309</td>   <td>0.1492</td>   <td>4.8994</td>  <td>0.0000</td> <td>0.4385</td>  <td>1.0233</td> \n",
       "</tr>\n",
       "<tr>\n",
       "  <th>number_project</th>        <td>-0.3151</td>  <td>0.0213</td>  <td>-14.7750</td> <td>0.0000</td> <td>-0.3569</td> <td>-0.2733</td>\n",
       "</tr>\n",
       "<tr>\n",
       "  <th>average_montly_hours</th>  <td>0.0045</td>   <td>0.0005</td>   <td>8.6426</td>  <td>0.0000</td> <td>0.0034</td>  <td>0.0055</td> \n",
       "</tr>\n",
       "<tr>\n",
       "  <th>time_spend_company</th>    <td>0.2678</td>   <td>0.0156</td>   <td>17.1924</td> <td>0.0000</td> <td>0.2372</td>  <td>0.2983</td> \n",
       "</tr>\n",
       "<tr>\n",
       "  <th>Work_accident</th>         <td>-1.5298</td>  <td>0.0896</td>  <td>-17.0829</td> <td>0.0000</td> <td>-1.7053</td> <td>-1.3543</td>\n",
       "</tr>\n",
       "<tr>\n",
       "  <th>promotion_last_5years</th> <td>-1.4301</td>  <td>0.2576</td>   <td>-5.5518</td> <td>0.0000</td> <td>-1.9350</td> <td>-0.9253</td>\n",
       "</tr>\n",
       "<tr>\n",
       "  <th>RandD</th>                 <td>-0.4016</td>  <td>0.1356</td>   <td>-2.9621</td> <td>0.0031</td> <td>-0.6674</td> <td>-0.1359</td>\n",
       "</tr>\n",
       "<tr>\n",
       "  <th>accounting</th>            <td>0.1807</td>   <td>0.1221</td>   <td>1.4797</td>  <td>0.1389</td> <td>-0.0587</td> <td>0.4201</td> \n",
       "</tr>\n",
       "<tr>\n",
       "  <th>hr</th>                    <td>0.4131</td>   <td>0.1210</td>   <td>3.4146</td>  <td>0.0006</td> <td>0.1760</td>  <td>0.6502</td> \n",
       "</tr>\n",
       "<tr>\n",
       "  <th>management</th>            <td>-0.2677</td>  <td>0.1517</td>   <td>-1.7647</td> <td>0.0776</td> <td>-0.5650</td> <td>0.0296</td> \n",
       "</tr>\n",
       "<tr>\n",
       "  <th>marketing</th>             <td>0.1686</td>   <td>0.1217</td>   <td>1.3858</td>  <td>0.1658</td> <td>-0.0699</td> <td>0.4071</td> \n",
       "</tr>\n",
       "<tr>\n",
       "  <th>product_mng</th>           <td>0.0275</td>   <td>0.1196</td>   <td>0.2296</td>  <td>0.8184</td> <td>-0.2070</td> <td>0.2620</td> \n",
       "</tr>\n",
       "<tr>\n",
       "  <th>sales</th>                 <td>0.1419</td>   <td>0.0887</td>   <td>1.6006</td>  <td>0.1095</td> <td>-0.0319</td> <td>0.3157</td> \n",
       "</tr>\n",
       "<tr>\n",
       "  <th>support</th>               <td>0.2307</td>   <td>0.0965</td>   <td>2.3909</td>  <td>0.0168</td> <td>0.0416</td>  <td>0.4199</td> \n",
       "</tr>\n",
       "<tr>\n",
       "  <th>technical</th>             <td>0.2509</td>   <td>0.0934</td>   <td>2.6850</td>  <td>0.0073</td> <td>0.0677</td>  <td>0.4340</td> \n",
       "</tr>\n",
       "<tr>\n",
       "  <th>low</th>                   <td>1.9441</td>   <td>0.1286</td>   <td>15.1115</td> <td>0.0000</td> <td>1.6919</td>  <td>2.1962</td> \n",
       "</tr>\n",
       "<tr>\n",
       "  <th>medium</th>                <td>1.4132</td>   <td>0.1294</td>   <td>10.9235</td> <td>0.0000</td> <td>1.1597</td>  <td>1.6668</td> \n",
       "</tr>\n",
       "<tr>\n",
       "  <th>intercept</th>             <td>-1.6570</td>  <td>0.1886</td>   <td>-8.7841</td> <td>0.0000</td> <td>-2.0267</td> <td>-1.2873</td>\n",
       "</tr>\n",
       "</table>"
      ],
      "text/plain": [
       "<class 'statsmodels.iolib.summary2.Summary'>\n",
       "\"\"\"\n",
       "                            Results: Logit\n",
       "======================================================================\n",
       "Model:                 Logit             Pseudo R-squared:  0.220     \n",
       "Dependent Variable:    left              AIC:               12887.8960\n",
       "Date:                  2021-08-15 23:04  BIC:               13032.5950\n",
       "No. Observations:      14999             Log-Likelihood:    -6424.9   \n",
       "Df Model:              18                LL-Null:           -8232.3   \n",
       "Df Residuals:          14980             LLR p-value:       0.0000    \n",
       "Converged:             1.0000            Scale:             1.0000    \n",
       "No. Iterations:        7.0000                                         \n",
       "----------------------------------------------------------------------\n",
       "                       Coef.  Std.Err.    z     P>|z|   [0.025  0.975]\n",
       "----------------------------------------------------------------------\n",
       "satisfaction_level    -4.1357   0.0981 -42.1769 0.0000 -4.3279 -3.9435\n",
       "last_evaluation        0.7309   0.1492   4.8994 0.0000  0.4385  1.0233\n",
       "number_project        -0.3151   0.0213 -14.7750 0.0000 -0.3569 -0.2733\n",
       "average_montly_hours   0.0045   0.0005   8.6426 0.0000  0.0034  0.0055\n",
       "time_spend_company     0.2678   0.0156  17.1924 0.0000  0.2372  0.2983\n",
       "Work_accident         -1.5298   0.0896 -17.0829 0.0000 -1.7053 -1.3543\n",
       "promotion_last_5years -1.4301   0.2576  -5.5518 0.0000 -1.9350 -0.9253\n",
       "RandD                 -0.4016   0.1356  -2.9621 0.0031 -0.6674 -0.1359\n",
       "accounting             0.1807   0.1221   1.4797 0.1389 -0.0587  0.4201\n",
       "hr                     0.4131   0.1210   3.4146 0.0006  0.1760  0.6502\n",
       "management            -0.2677   0.1517  -1.7647 0.0776 -0.5650  0.0296\n",
       "marketing              0.1686   0.1217   1.3858 0.1658 -0.0699  0.4071\n",
       "product_mng            0.0275   0.1196   0.2296 0.8184 -0.2070  0.2620\n",
       "sales                  0.1419   0.0887   1.6006 0.1095 -0.0319  0.3157\n",
       "support                0.2307   0.0965   2.3909 0.0168  0.0416  0.4199\n",
       "technical              0.2509   0.0934   2.6850 0.0073  0.0677  0.4340\n",
       "low                    1.9441   0.1286  15.1115 0.0000  1.6919  2.1962\n",
       "medium                 1.4132   0.1294  10.9235 0.0000  1.1597  1.6668\n",
       "intercept             -1.6570   0.1886  -8.7841 0.0000 -2.0267 -1.2873\n",
       "======================================================================\n",
       "\n",
       "\"\"\""
      ]
     },
     "execution_count": 56,
     "metadata": {},
     "output_type": "execute_result"
    }
   ],
   "source": [
    "#viewing the results of the logistic regression\n",
    "\n",
    "results.summary2()"
   ]
  },
  {
   "cell_type": "code",
   "execution_count": 69,
   "id": "87f40f22",
   "metadata": {},
   "outputs": [
    {
     "name": "stdout",
     "output_type": "stream",
     "text": [
      "a one (1) point increase in the Satisfaction Level Score decreases the liklihood of an employee leaving by 0.016 times\n",
      "a one (1) point increase in the Last Evaluation Score increases the liklihood of an employee leaving by 2.077 times\n",
      "a Promotion in the last 5 years decreases the liklihood of an employee leaving by 0.239 times\n"
     ]
    }
   ],
   "source": [
    "#calculating some exp(coef values)\n",
    "\n",
    "coef_satis_level = np.exp(-4.1357).round(3)\n",
    "coef_eval = np.exp(0.7309).round(3)\n",
    "coef_promotion = np.exp(-1.4301).round(3)\n",
    "\n",
    "print('a one (1) point increase in the Satisfaction Level Score decreases the liklihood of an employee leaving by {} times'.format(coef_satis_level))\n",
    "print('a one (1) point increase in the Last Evaluation Score increases the liklihood of an employee leaving by {} times'.format(coef_eval))\n",
    "print('a Promotion in the last 5 years decreases the liklihood of an employee leaving by {} times'.format(coef_promotion))\n"
   ]
  },
  {
   "cell_type": "markdown",
   "id": "0b7a117a",
   "metadata": {},
   "source": [
    "**Interpreting the coef. from the results**\n",
    "\n",
    "The results show that higher *Satisfaction Level Scores* and a *Promotion* **decrease** the likelihood of an employee leaving the company.\n",
    "\n",
    "Interestingly, higher *Evaluation Scores* **increase** the likelihood of an employee leaving the company."
   ]
  },
  {
   "cell_type": "markdown",
   "id": "9200f2c8",
   "metadata": {},
   "source": [
    "**Creating a Logistic Regression Model and Checking its Performance**\n",
    "\n",
    "We can now proceed to plugging all the variables into our model and checking how well it does in predicting which employees stay with the company and which employees leave"
   ]
  },
  {
   "cell_type": "code",
   "execution_count": 70,
   "id": "944a1996",
   "metadata": {},
   "outputs": [],
   "source": [
    "y = df_mod['left']\n",
    "X = df_mod.drop(['left'], axis = 1)"
   ]
  },
  {
   "cell_type": "code",
   "execution_count": 73,
   "id": "d3f254e6",
   "metadata": {},
   "outputs": [],
   "source": [
    "#making a random test train split of the data\n",
    "\n",
    "X_train, X_test, y_train, y_test = train_test_split(X, y, test_size = 0.2, random_state = 50)"
   ]
  },
  {
   "cell_type": "code",
   "execution_count": 74,
   "id": "0d45aaa7",
   "metadata": {},
   "outputs": [],
   "source": [
    "#creating a regression class object\n",
    "\n",
    "log_mod = LogisticRegression()"
   ]
  },
  {
   "cell_type": "code",
   "execution_count": 83,
   "id": "2a83ac5d",
   "metadata": {},
   "outputs": [
    {
     "name": "stderr",
     "output_type": "stream",
     "text": [
      "C:\\Users\\Maheen Arshad\\anaconda3\\lib\\site-packages\\sklearn\\linear_model\\_logistic.py:763: ConvergenceWarning: lbfgs failed to converge (status=1):\n",
      "STOP: TOTAL NO. of ITERATIONS REACHED LIMIT.\n",
      "\n",
      "Increase the number of iterations (max_iter) or scale the data as shown in:\n",
      "    https://scikit-learn.org/stable/modules/preprocessing.html\n",
      "Please also refer to the documentation for alternative solver options:\n",
      "    https://scikit-learn.org/stable/modules/linear_model.html#logistic-regression\n",
      "  n_iter_i = _check_optimize_result(\n"
     ]
    },
    {
     "data": {
      "text/plain": [
       "LogisticRegression()"
      ]
     },
     "execution_count": 83,
     "metadata": {},
     "output_type": "execute_result"
    }
   ],
   "source": [
    "#training the model on the train data\n",
    "\n",
    "log_mod.fit(X_train, y_train)"
   ]
  },
  {
   "cell_type": "code",
   "execution_count": 84,
   "id": "314211bd",
   "metadata": {},
   "outputs": [],
   "source": [
    "#predicting the y-values (whether employees left or not) by applying the model on the X_test data \n",
    "\n",
    "y_pred = log_mod.predict(X_test)"
   ]
  },
  {
   "cell_type": "code",
   "execution_count": 85,
   "id": "5d75fad3",
   "metadata": {},
   "outputs": [
    {
     "name": "stdout",
     "output_type": "stream",
     "text": [
      "precision score is 0.604\n",
      "recall score is 0.399\n",
      "accuracy score is 0.79\n",
      "confusion matrix is [[2079  191]\n",
      " [ 439  291]]\n"
     ]
    }
   ],
   "source": [
    "#checking the performance of the logistic regression model\n",
    "\n",
    "print('precision score is {}'.format(precision_score(y_test, y_pred).round(3)))\n",
    "print('recall score is {}'.format(recall_score(y_test, y_pred).round(3)))\n",
    "print('accuracy score is {}'.format(accuracy_score(y_test, y_pred).round(3)))\n",
    "print('confusion matrix is {}'.format(confusion_matrix(y_test, y_pred)))"
   ]
  },
  {
   "cell_type": "markdown",
   "id": "ccb829f1",
   "metadata": {},
   "source": [
    "The logistic model in its current form has a **79%** accuracy of predicting whether an employee will stay with the company or leave.\n",
    "\n",
    "While this accuracy is not extremely high, it is respectable enough to apply this model for practical purposes.\n",
    "\n",
    "**Notes for imporving the model**\n",
    "\n",
    "- remove variables which are insignificant to the model fit (high P vals)\n",
    "- Scale the data?\n",
    "- increase maximum iterations to improve fit"
   ]
  },
  {
   "cell_type": "markdown",
   "id": "16db9a01",
   "metadata": {},
   "source": [
    "Once the Model has an acceptable accuracy, we can save the model so that it can be used on other data in the future."
   ]
  },
  {
   "cell_type": "code",
   "execution_count": 93,
   "id": "0204f78b",
   "metadata": {},
   "outputs": [
    {
     "data": {
      "text/plain": [
       "['hr_analytics_model']"
      ]
     },
     "execution_count": 93,
     "metadata": {},
     "output_type": "execute_result"
    }
   ],
   "source": [
    "#saving the model on local directory\n",
    "\n",
    "import joblib\n",
    "\n",
    "joblib.dump(log_mod, 'hr_analytics_model')"
   ]
  },
  {
   "cell_type": "code",
   "execution_count": null,
   "id": "251dd3fa",
   "metadata": {},
   "outputs": [],
   "source": []
  }
 ],
 "metadata": {
  "kernelspec": {
   "display_name": "Python 3",
   "language": "python",
   "name": "python3"
  },
  "language_info": {
   "codemirror_mode": {
    "name": "ipython",
    "version": 3
   },
   "file_extension": ".py",
   "mimetype": "text/x-python",
   "name": "python",
   "nbconvert_exporter": "python",
   "pygments_lexer": "ipython3",
   "version": "3.8.10"
  }
 },
 "nbformat": 4,
 "nbformat_minor": 5
}
